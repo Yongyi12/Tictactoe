{
 "cells": [
  {
   "cell_type": "code",
   "execution_count": 1,
   "id": "81d8d80a",
   "metadata": {},
   "outputs": [],
   "source": [
    "# Import necessary libraries\n",
    "import pandas as pd\n",
    "import json\n",
    "\n",
    "# Load the CSV dataset\n",
    "df = pd.read_csv(\"semi_strut.csv\")\n",
    "\n",
    "# Display the first few rows of the dataset"
   ]
  },
  {
   "cell_type": "code",
   "execution_count": 10,
   "id": "a5ea1871",
   "metadata": {},
   "outputs": [],
   "source": [
    "# Tokenization function to extract terms from the JSON-like content\n",
    "# Remember to exact both \n",
    "# 1 .Extract terms from various fields (title, keywords, and content)\n",
    "# 2. Extract terms from sections' titles and content\n",
    "# 3. Tokenize the content and create a new column \"Terms\"\n",
    "# 4. Implement a preprocessing function that converts terms to lowercase, removes punctuation, and removes common stop words.\n",
    "    # Create another new column \"Terms_preprocessed\"\n",
    "# 5. you can display the DataFrame\n",
    "# def tokenize_content(content):"
   ]
  },
  {
   "cell_type": "code",
   "execution_count": null,
   "id": "27def6ed",
   "metadata": {},
   "outputs": [],
   "source": [
    "# "
   ]
  },
  {
   "cell_type": "code",
   "execution_count": 5,
   "id": "131fdcaf",
   "metadata": {},
   "outputs": [],
   "source": [
    "# Initialize an empty inverted index dictionary\n",
    "# Build the inverted index"
   ]
  },
  {
   "cell_type": "code",
   "execution_count": 7,
   "id": "4824b570",
   "metadata": {},
   "outputs": [],
   "source": [
    "# Initialize an empty inverted index dictionary the extracted terms "
   ]
  },
  {
   "cell_type": "code",
   "execution_count": 8,
   "id": "1b929397",
   "metadata": {},
   "outputs": [],
   "source": [
    "# perform boolean operations on postings lists for Boolean search operations\n",
    "# 1. \"Python\" OR \"Pandas\"\n",
    "# 2. \"Python\" AND \"data\""
   ]
  },
  {
   "cell_type": "code",
   "execution_count": null,
   "id": "80680485",
   "metadata": {},
   "outputs": [],
   "source": []
  }
 ],
 "metadata": {
  "kernelspec": {
   "display_name": "my-conda-env",
   "language": "python",
   "name": "my-conda-env"
  },
  "language_info": {
   "codemirror_mode": {
    "name": "ipython",
    "version": 3
   },
   "file_extension": ".py",
   "mimetype": "text/x-python",
   "name": "python",
   "nbconvert_exporter": "python",
   "pygments_lexer": "ipython3",
   "version": "3.9.2"
  }
 },
 "nbformat": 4,
 "nbformat_minor": 5
}
